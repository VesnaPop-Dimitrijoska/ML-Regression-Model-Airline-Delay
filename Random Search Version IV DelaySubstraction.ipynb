{
 "cells": [
  {
   "cell_type": "markdown",
   "metadata": {},
   "source": [
    "---\n",
    "# Model Hyperparameter Optimization with Random Search\n",
    "# Version IV\n",
    "### * Delay columns substraction, without target class transformation\n",
    "---"
   ]
  },
  {
   "cell_type": "code",
   "execution_count": 1,
   "metadata": {},
   "outputs": [],
   "source": [
    "import random\n",
    "import numpy as np\n",
    "import pandas as pd\n",
    "import matplotlib.pyplot as plt\n",
    "import seaborn as sns\n",
    "import tqdm       \n",
    "import copy\n",
    "\n",
    "from sklearn.preprocessing import LabelEncoder, OrdinalEncoder\n",
    "from sklearn.preprocessing import MinMaxScaler\n",
    "from collections import Counter\n",
    "                     \n",
    "from sklearn.compose import ColumnTransformer\n",
    "from sklearn.pipeline import Pipeline\n",
    "from sklearn.pipeline import make_pipeline, make_union\n",
    "\n",
    "from sklearn.model_selection import GridSearchCV, RandomizedSearchCV\n",
    "from sklearn.model_selection import KFold, StratifiedKFold, cross_val_score, cross_val_predict, cross_validate\n",
    "from sklearn.model_selection import train_test_split\n",
    "\n",
    "from tpot import TPOTRegressor\n",
    "from tpot.builtins import StackingEstimator\n",
    "\n",
    "# Regression models\n",
    "from sklearn.linear_model import LinearRegression\n",
    "from sklearn.linear_model import Lasso, ElasticNet, Ridge, SGDRegressor\n",
    "from sklearn.tree import DecisionTreeRegressor\n",
    "from sklearn.dummy import DummyRegressor\n",
    "from sklearn.kernel_ridge import KernelRidge\n",
    "from sklearn.svm import LinearSVR, SVR\n",
    "from sklearn.ensemble import RandomForestRegressor\n",
    "from sklearn.neighbors import KNeighborsRegressor\n",
    "\n",
    "# Regression metrics\n",
    "from sklearn.metrics import mean_absolute_error, mean_squared_error, r2_score\n",
    "\n",
    "RANDOM_STATE=42\n",
    "random.seed(RANDOM_STATE)\n",
    "np.random.seed(RANDOM_STATE)"
   ]
  },
  {
   "cell_type": "markdown",
   "metadata": {},
   "source": [
    "---\n",
    "# Read the Dataset"
   ]
  },
  {
   "cell_type": "code",
   "execution_count": 2,
   "metadata": {
    "scrolled": true
   },
   "outputs": [
    {
     "data": {
      "text/html": [
       "<div>\n",
       "<style scoped>\n",
       "    .dataframe tbody tr th:only-of-type {\n",
       "        vertical-align: middle;\n",
       "    }\n",
       "\n",
       "    .dataframe tbody tr th {\n",
       "        vertical-align: top;\n",
       "    }\n",
       "\n",
       "    .dataframe thead th {\n",
       "        text-align: right;\n",
       "    }\n",
       "</style>\n",
       "<table border=\"1\" class=\"dataframe\">\n",
       "  <thead>\n",
       "    <tr style=\"text-align: right;\">\n",
       "      <th></th>\n",
       "      <th>Month</th>\n",
       "      <th>DayOfWeek</th>\n",
       "      <th>UniqueCarrier</th>\n",
       "      <th>TailNum</th>\n",
       "      <th>ActualElapsedTime</th>\n",
       "      <th>Origin</th>\n",
       "      <th>Dest</th>\n",
       "      <th>TaxiIn</th>\n",
       "      <th>TaxiOut</th>\n",
       "      <th>Delay</th>\n",
       "      <th>DepTDelay</th>\n",
       "      <th>ArrTDelay</th>\n",
       "    </tr>\n",
       "  </thead>\n",
       "  <tbody>\n",
       "    <tr>\n",
       "      <th>0</th>\n",
       "      <td>1</td>\n",
       "      <td>4</td>\n",
       "      <td>WN</td>\n",
       "      <td>N464WN</td>\n",
       "      <td>9.486833</td>\n",
       "      <td>IND</td>\n",
       "      <td>BWI</td>\n",
       "      <td>1.732051</td>\n",
       "      <td>3.162278</td>\n",
       "      <td>34.0</td>\n",
       "      <td>74.0</td>\n",
       "      <td>34.0</td>\n",
       "    </tr>\n",
       "    <tr>\n",
       "      <th>1</th>\n",
       "      <td>1</td>\n",
       "      <td>4</td>\n",
       "      <td>WN</td>\n",
       "      <td>N763SW</td>\n",
       "      <td>15.491933</td>\n",
       "      <td>IND</td>\n",
       "      <td>LAS</td>\n",
       "      <td>1.732051</td>\n",
       "      <td>2.645751</td>\n",
       "      <td>57.0</td>\n",
       "      <td>107.0</td>\n",
       "      <td>97.0</td>\n",
       "    </tr>\n",
       "    <tr>\n",
       "      <th>2</th>\n",
       "      <td>1</td>\n",
       "      <td>4</td>\n",
       "      <td>WN</td>\n",
       "      <td>N334SW</td>\n",
       "      <td>11.000000</td>\n",
       "      <td>IND</td>\n",
       "      <td>MCO</td>\n",
       "      <td>2.449490</td>\n",
       "      <td>2.828427</td>\n",
       "      <td>80.0</td>\n",
       "      <td>134.0</td>\n",
       "      <td>120.0</td>\n",
       "    </tr>\n",
       "    <tr>\n",
       "      <th>3</th>\n",
       "      <td>1</td>\n",
       "      <td>4</td>\n",
       "      <td>WN</td>\n",
       "      <td>N286WN</td>\n",
       "      <td>15.099669</td>\n",
       "      <td>IND</td>\n",
       "      <td>PHX</td>\n",
       "      <td>2.645751</td>\n",
       "      <td>2.828427</td>\n",
       "      <td>15.0</td>\n",
       "      <td>27.0</td>\n",
       "      <td>15.0</td>\n",
       "    </tr>\n",
       "    <tr>\n",
       "      <th>4</th>\n",
       "      <td>1</td>\n",
       "      <td>4</td>\n",
       "      <td>WN</td>\n",
       "      <td>N674AA</td>\n",
       "      <td>11.090537</td>\n",
       "      <td>IND</td>\n",
       "      <td>TPA</td>\n",
       "      <td>2.000000</td>\n",
       "      <td>3.000000</td>\n",
       "      <td>16.0</td>\n",
       "      <td>68.0</td>\n",
       "      <td>16.0</td>\n",
       "    </tr>\n",
       "    <tr>\n",
       "      <th>...</th>\n",
       "      <td>...</td>\n",
       "      <td>...</td>\n",
       "      <td>...</td>\n",
       "      <td>...</td>\n",
       "      <td>...</td>\n",
       "      <td>...</td>\n",
       "      <td>...</td>\n",
       "      <td>...</td>\n",
       "      <td>...</td>\n",
       "      <td>...</td>\n",
       "      <td>...</td>\n",
       "      <td>...</td>\n",
       "    </tr>\n",
       "    <tr>\n",
       "      <th>1247479</th>\n",
       "      <td>12</td>\n",
       "      <td>6</td>\n",
       "      <td>DL</td>\n",
       "      <td>N907DE</td>\n",
       "      <td>10.535654</td>\n",
       "      <td>ATL</td>\n",
       "      <td>PBI</td>\n",
       "      <td>2.828427</td>\n",
       "      <td>4.582576</td>\n",
       "      <td>64.0</td>\n",
       "      <td>91.0</td>\n",
       "      <td>104.0</td>\n",
       "    </tr>\n",
       "    <tr>\n",
       "      <th>1247480</th>\n",
       "      <td>12</td>\n",
       "      <td>6</td>\n",
       "      <td>DL</td>\n",
       "      <td>N905DE</td>\n",
       "      <td>6.557439</td>\n",
       "      <td>HSV</td>\n",
       "      <td>ATL</td>\n",
       "      <td>3.000000</td>\n",
       "      <td>2.645751</td>\n",
       "      <td>17.0</td>\n",
       "      <td>32.0</td>\n",
       "      <td>17.0</td>\n",
       "    </tr>\n",
       "    <tr>\n",
       "      <th>1247481</th>\n",
       "      <td>12</td>\n",
       "      <td>6</td>\n",
       "      <td>DL</td>\n",
       "      <td>N938DL</td>\n",
       "      <td>12.124356</td>\n",
       "      <td>MSP</td>\n",
       "      <td>ATL</td>\n",
       "      <td>3.000000</td>\n",
       "      <td>4.242641</td>\n",
       "      <td>25.0</td>\n",
       "      <td>30.0</td>\n",
       "      <td>65.0</td>\n",
       "    </tr>\n",
       "    <tr>\n",
       "      <th>1247482</th>\n",
       "      <td>12</td>\n",
       "      <td>6</td>\n",
       "      <td>DL</td>\n",
       "      <td>N3743H</td>\n",
       "      <td>11.269428</td>\n",
       "      <td>RIC</td>\n",
       "      <td>ATL</td>\n",
       "      <td>3.872983</td>\n",
       "      <td>5.830952</td>\n",
       "      <td>75.0</td>\n",
       "      <td>57.0</td>\n",
       "      <td>155.0</td>\n",
       "    </tr>\n",
       "    <tr>\n",
       "      <th>1247483</th>\n",
       "      <td>12</td>\n",
       "      <td>6</td>\n",
       "      <td>DL</td>\n",
       "      <td>N909DA</td>\n",
       "      <td>12.727922</td>\n",
       "      <td>ATL</td>\n",
       "      <td>IAH</td>\n",
       "      <td>2.828427</td>\n",
       "      <td>5.656854</td>\n",
       "      <td>99.0</td>\n",
       "      <td>160.0</td>\n",
       "      <td>139.0</td>\n",
       "    </tr>\n",
       "  </tbody>\n",
       "</table>\n",
       "<p>1247484 rows × 12 columns</p>\n",
       "</div>"
      ],
      "text/plain": [
       "         Month  DayOfWeek UniqueCarrier TailNum  ActualElapsedTime Origin  \\\n",
       "0            1          4            WN  N464WN           9.486833    IND   \n",
       "1            1          4            WN  N763SW          15.491933    IND   \n",
       "2            1          4            WN  N334SW          11.000000    IND   \n",
       "3            1          4            WN  N286WN          15.099669    IND   \n",
       "4            1          4            WN  N674AA          11.090537    IND   \n",
       "...        ...        ...           ...     ...                ...    ...   \n",
       "1247479     12          6            DL  N907DE          10.535654    ATL   \n",
       "1247480     12          6            DL  N905DE           6.557439    HSV   \n",
       "1247481     12          6            DL  N938DL          12.124356    MSP   \n",
       "1247482     12          6            DL  N3743H          11.269428    RIC   \n",
       "1247483     12          6            DL  N909DA          12.727922    ATL   \n",
       "\n",
       "        Dest    TaxiIn   TaxiOut  Delay  DepTDelay  ArrTDelay  \n",
       "0        BWI  1.732051  3.162278   34.0       74.0       34.0  \n",
       "1        LAS  1.732051  2.645751   57.0      107.0       97.0  \n",
       "2        MCO  2.449490  2.828427   80.0      134.0      120.0  \n",
       "3        PHX  2.645751  2.828427   15.0       27.0       15.0  \n",
       "4        TPA  2.000000  3.000000   16.0       68.0       16.0  \n",
       "...      ...       ...       ...    ...        ...        ...  \n",
       "1247479  PBI  2.828427  4.582576   64.0       91.0      104.0  \n",
       "1247480  ATL  3.000000  2.645751   17.0       32.0       17.0  \n",
       "1247481  ATL  3.000000  4.242641   25.0       30.0       65.0  \n",
       "1247482  ATL  3.872983  5.830952   75.0       57.0      155.0  \n",
       "1247483  IAH  2.828427  5.656854   99.0      160.0      139.0  \n",
       "\n",
       "[1247484 rows x 12 columns]"
      ]
     },
     "metadata": {},
     "output_type": "display_data"
    }
   ],
   "source": [
    "org_df = pd.read_csv('AirlineDelay_CleanDataset_DelaySubstraction.csv', index_col=0) \n",
    "df = org_df.copy()\n",
    "\n",
    "display(df)"
   ]
  },
  {
   "cell_type": "code",
   "execution_count": 3,
   "metadata": {},
   "outputs": [],
   "source": [
    "cat_cols = list(df.select_dtypes('object').columns)\n",
    "\n",
    "for c in cat_cols:\n",
    "    df[c] = LabelEncoder().fit_transform(df[c].values)"
   ]
  },
  {
   "cell_type": "markdown",
   "metadata": {},
   "source": [
    "---\n",
    "# Dividing the dataset: \n",
    "### X-Class/Target column and y-Features/Attributes "
   ]
  },
  {
   "cell_type": "code",
   "execution_count": 4,
   "metadata": {},
   "outputs": [],
   "source": [
    "# Whole Dataset\n",
    "\n",
    "# X = df.drop(columns=['Delay'])                            \n",
    "# y = df['Delay']"
   ]
  },
  {
   "cell_type": "code",
   "execution_count": 5,
   "metadata": {},
   "outputs": [],
   "source": [
    "# Testing sample of the Dataset\n",
    "\n",
    "A = df.drop(columns=['Delay'])                            \n",
    "b = df['Delay']\n",
    "\n",
    "bins = [15, 60, 120, 180, 240, 300, 360, 2462] \n",
    "y_binned = np.digitize(b, bins=bins, right=True)\n",
    "\n",
    "X_train, X, y_train, y = train_test_split(A, b, test_size=0.10, stratify=y_binned, random_state=RANDOM_STATE)"
   ]
  },
  {
   "cell_type": "markdown",
   "metadata": {},
   "source": [
    "---\n",
    "# Train and evaluate the model with Randomized Search "
   ]
  },
  {
   "cell_type": "code",
   "execution_count": 6,
   "metadata": {},
   "outputs": [],
   "source": [
    "def model_loop(X, y, reg, grid_params):\n",
    "    \n",
    "    bins = [15, 60, 120, 180, 240, 300, 360, 2462]\n",
    "    \n",
    "    y_binned = np.digitize(y, bins=bins, right=True)\n",
    "\n",
    "    skf = StratifiedKFold(n_splits=3, shuffle=True, random_state=RANDOM_STATE).split(X, y_binned)\n",
    "    \n",
    "    cat_cols = ['UniqueCarrier', 'TailNum', 'Origin', 'Dest']\n",
    "    num_cols = list(set(X.columns) - set(cat_cols))\n",
    "    \n",
    "    \n",
    "    col_trans = ColumnTransformer(\n",
    "        [\n",
    "            ('mms', MinMaxScaler(), num_cols)\n",
    "            #('ord', OrdinalEncoder(), cat_cols) # THERE IS A PROBLEM WITH THIS LINE AND THE CODE IS NOT WORKING\n",
    "        ],\n",
    "        remainder='drop'\n",
    "    )\n",
    "    \n",
    "    \n",
    "    pipeline = Pipeline(\n",
    "        [\n",
    "            ('col_trans', col_trans),\n",
    "            ('reg', reg)\n",
    "        ]\n",
    "    )\n",
    "    \n",
    "    model = RandomizedSearchCV(estimator=pipeline,\n",
    "                         param_distributions = grid_params,\n",
    "                         cv = skf,\n",
    "                         scoring='r2',\n",
    "                         n_iter=5,\n",
    "                         refit=True,\n",
    "                         n_jobs=-2,\n",
    "                         random_state=RANDOM_STATE,\n",
    "                         verbose=2) \n",
    "    model.fit(X,y)\n",
    "    return model"
   ]
  },
  {
   "cell_type": "code",
   "execution_count": 7,
   "metadata": {},
   "outputs": [],
   "source": [
    "param_dicts = [\n",
    "    {\n",
    "        'reg': RandomForestRegressor(),\n",
    "        'name': \"RandomForest\",\n",
    "        'grid_dict': {\n",
    "            'reg__criterion': ['absolute_error', 'squared_error'],\n",
    "            'reg__max_depth': [1, 5, None],\n",
    "            'reg__min_samples_leaf': [1,5],\n",
    "            'reg__min_samples_split': [2,5,],\n",
    "            'reg__n_estimators': [50, 100],\n",
    "            'reg__random_state': [RANDOM_STATE]\n",
    "        }\n",
    "    },\n",
    "    {\n",
    "        'reg': Lasso(),\n",
    "        'name': \"Lasso\",\n",
    "        'grid_dict': {\n",
    "            'reg__alpha': [0.1,1,10]\n",
    "        }\n",
    "    },\n",
    "    {\n",
    "        'reg': ElasticNet(),\n",
    "        'name': \"ElasticNet\",\n",
    "        'grid_dict': {\n",
    "            'reg__alpha': [0.1,1,10]\n",
    "        }\n",
    "    },\n",
    "    {\n",
    "        'reg': KNeighborsRegressor(),\n",
    "        'name': \"KNN\",\n",
    "        'grid_dict': {\n",
    "            'reg__n_neighbors': [2,5,10]\n",
    "        }\n",
    "    }   \n",
    "]"
   ]
  },
  {
   "cell_type": "code",
   "execution_count": 8,
   "metadata": {},
   "outputs": [
    {
     "name": "stderr",
     "output_type": "stream",
     "text": [
      "\r",
      "  0%|          | 0/4 [00:00<?, ?it/s]"
     ]
    },
    {
     "name": "stdout",
     "output_type": "stream",
     "text": [
      "RandomForest\n",
      "Fitting 3 folds for each of 5 candidates, totalling 15 fits\n"
     ]
    },
    {
     "name": "stderr",
     "output_type": "stream",
     "text": [
      " 25%|██▌       | 1/4 [01:33<04:40, 93.55s/it]C:\\Users\\Vesna\\AppData\\Roaming\\Python\\Python310\\site-packages\\sklearn\\model_selection\\_search.py:307: UserWarning: The total space of parameters 3 is smaller than n_iter=5. Running 3 iterations. For exhaustive searches, use GridSearchCV.\n",
      "  warnings.warn(\n"
     ]
    },
    {
     "name": "stdout",
     "output_type": "stream",
     "text": [
      "Lasso\n",
      "Fitting 3 folds for each of 3 candidates, totalling 9 fits\n"
     ]
    },
    {
     "name": "stderr",
     "output_type": "stream",
     "text": [
      " 50%|█████     | 2/4 [01:34<01:17, 38.84s/it]C:\\Users\\Vesna\\AppData\\Roaming\\Python\\Python310\\site-packages\\sklearn\\model_selection\\_search.py:307: UserWarning: The total space of parameters 3 is smaller than n_iter=5. Running 3 iterations. For exhaustive searches, use GridSearchCV.\n",
      "  warnings.warn(\n"
     ]
    },
    {
     "name": "stdout",
     "output_type": "stream",
     "text": [
      "ElasticNet\n",
      "Fitting 3 folds for each of 3 candidates, totalling 9 fits\n"
     ]
    },
    {
     "name": "stderr",
     "output_type": "stream",
     "text": [
      " 75%|███████▌  | 3/4 [01:34<00:21, 21.34s/it]C:\\Users\\Vesna\\AppData\\Roaming\\Python\\Python310\\site-packages\\sklearn\\model_selection\\_search.py:307: UserWarning: The total space of parameters 3 is smaller than n_iter=5. Running 3 iterations. For exhaustive searches, use GridSearchCV.\n",
      "  warnings.warn(\n"
     ]
    },
    {
     "name": "stdout",
     "output_type": "stream",
     "text": [
      "KNN\n",
      "Fitting 3 folds for each of 3 candidates, totalling 9 fits\n"
     ]
    },
    {
     "name": "stderr",
     "output_type": "stream",
     "text": [
      "100%|██████████| 4/4 [01:50<00:00, 27.68s/it]\n"
     ]
    }
   ],
   "source": [
    "best_models=[]\n",
    "best_model_names=[]\n",
    "\n",
    "for el in tqdm.tqdm(param_dicts):\n",
    "    print(el['name'])\n",
    "    best_models.append(model_loop(X, y, el['reg'], el['grid_dict']))\n",
    "    best_model_names.append(el['name'])"
   ]
  },
  {
   "cell_type": "code",
   "execution_count": 9,
   "metadata": {
    "scrolled": false
   },
   "outputs": [
    {
     "name": "stdout",
     "output_type": "stream",
     "text": [
      "Model Name:      RandomForest\n",
      "R2 Score:        0.9868333540014914\n",
      "Best parameters: {'reg__random_state': 42, 'reg__n_estimators': 100, 'reg__min_samples_split': 5, 'reg__min_samples_leaf': 1, 'reg__max_depth': None, 'reg__criterion': 'squared_error'}\n",
      "-----------------------------------------------------\n",
      "\n",
      "Model Name:      Lasso\n",
      "R2 Score:        0.07073459580265747\n",
      "Best parameters: {'reg__alpha': 0.1}\n",
      "-----------------------------------------------------\n",
      "\n",
      "Model Name:      ElasticNet\n",
      "R2 Score:        0.016488518044770695\n",
      "Best parameters: {'reg__alpha': 0.1}\n",
      "-----------------------------------------------------\n",
      "\n",
      "Model Name:      KNN\n",
      "R2 Score:        0.7699049458771846\n",
      "Best parameters: {'reg__n_neighbors': 2}\n",
      "-----------------------------------------------------\n",
      "\n"
     ]
    }
   ],
   "source": [
    "for el, name in zip(best_models, best_model_names):\n",
    "    print('Model Name:     ', name)\n",
    "    print('R2 Score:       ', el.best_score_)\n",
    "    print('Best parameters:', el.best_params_)\n",
    "    print('-----------------------------------------------------\\n')"
   ]
  }
 ],
 "metadata": {
  "colab": {
   "collapsed_sections": [],
   "name": "Workshop_Week4.ipynb",
   "provenance": []
  },
  "kernelspec": {
   "display_name": "Python 3 (ipykernel)",
   "language": "python",
   "name": "python3"
  },
  "language_info": {
   "codemirror_mode": {
    "name": "ipython",
    "version": 3
   },
   "file_extension": ".py",
   "mimetype": "text/x-python",
   "name": "python",
   "nbconvert_exporter": "python",
   "pygments_lexer": "ipython3",
   "version": "3.10.9"
  },
  "vscode": {
   "interpreter": {
    "hash": "5238573367df39f7286bb46f9ff5f08f63a01a80960060ce41e3c79b190280fa"
   }
  }
 },
 "nbformat": 4,
 "nbformat_minor": 1
}
